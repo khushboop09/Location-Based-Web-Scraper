{
 "cells": [
  {
   "cell_type": "code",
   "execution_count": 1,
   "metadata": {
    "collapsed": false
   },
   "outputs": [],
   "source": [
    "\n",
    "import sys\n",
    "import gnp\n",
    "import codecs\n",
    "import json\n",
    "import csv\n",
    "\n",
    "reload(sys)\n",
    "sys.setdefaultencoding('utf8')\n",
    "\n",
    "#----------extracting the news from google according to a keyword------------------------\n",
    "file=\"E:/SEM8/Project/location/locations.csv\"\n",
    "with open(file) as trends_file:\n",
    "    reader = csv.reader(trends_file, delimiter=\",\")\n",
    "    c=0\n",
    "\n",
    "    for row in reader:\n",
    "        print row[1]\n",
    "        news = gnp.get_google_news_query(row[1])\n",
    "        j = json.dumps(news, indent=4, ensure_ascii=False)\n",
    "        c=c+1\n",
    "        f = codecs.open('E:/SEM8/Project/location/4317location'+str(c)+'.json', 'w', encoding='utf-8')\n",
    "        f.write(j.decode('utf-8'))\n",
    "        f.close()\n",
    "# ------------------------End extraction code--------------------------------------------\n",
    "\n",
    "#----------writing the extracted news url and summary to a csv file-----------------------\n",
    "with open(file) as trends_json:\n",
    "    reader = csv.reader(trends_json,delimiter=\",\")\n",
    "    c=0\n",
    "    for row in (r for i, r in enumerate(reader) if 1 <= i <= 10):\n",
    "        c=c+1\n",
    "        with open('E:/SEM8/Project/location/4317location'+str(c)+'.json','r') as news_file:\n",
    "            data = json.load(news_file)\n",
    "        final_news_file = open('E:/SEM8/Project/location/4317location'+str(c)+'.csv','w')\n",
    "        wr = csv.writer(final_news_file,delimiter=',',quoting=csv.QUOTE_MINIMAL)\n",
    "        for stories in data[\"stories\"]:\n",
    "            wr.writerow([stories[\"link\"],stories[\"content_snippet\"]])\n",
    "#----------------End of writing news content to CSV file code-----------------------------"
   ]
  },
  {
   "cell_type": "code",
   "execution_count": null,
   "metadata": {
    "collapsed": true
   },
   "outputs": [],
   "source": []
  },
  {
   "cell_type": "code",
   "execution_count": null,
   "metadata": {
    "collapsed": true
   },
   "outputs": [],
   "source": []
  }
 ],
 "metadata": {
  "anaconda-cloud": {},
  "kernelspec": {
   "display_name": "Python [conda root]",
   "language": "python",
   "name": "conda-root-py"
  },
  "language_info": {
   "codemirror_mode": {
    "name": "ipython",
    "version": 2
   },
   "file_extension": ".py",
   "mimetype": "text/x-python",
   "name": "python",
   "nbconvert_exporter": "python",
   "pygments_lexer": "ipython2",
   "version": "2.7.12"
  }
 },
 "nbformat": 4,
 "nbformat_minor": 1
}
